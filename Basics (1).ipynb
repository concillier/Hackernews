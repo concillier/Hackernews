{
 "cells": [
  {
   "cell_type": "markdown",
   "metadata": {},
   "source": [
    "## Introduction \n",
    "\n",
    "### Data source \n",
    "Hackernews. \n",
    "\n",
    "### Data definition\n",
    "|Column title|Meaning|\n",
    "|------------|-------|\n",
    "|id |The unique identifier from Hacker News for the post|\n",
    "|title| The title of the post|\n",
    "|url | The URL that the posts links to, if it the post has a URL |\n",
    "|num_points |The number of points the post acquired, calculated as the total number of upvotes minus the total number of downvotes |\n",
    "|num_comments |The number of comments that were made on the post |\n",
    "|author| The username of the person who submitted the post |\n",
    "|created_at| The date and time at which the post was submitted |\n",
    "\n",
    "### What the analysis is about\n",
    "1. I want to compare two types of posts and see which posts get more comments on average.  \n",
    "(1) posts submitted by the users to show projects and products [Show HN] (2) posts in form of questions submitted by the users [Ask HN]\n",
    "\n",
    "2. What are the peak times when people submit most comments on average?"
   ]
  },
  {
   "cell_type": "markdown",
   "metadata": {},
   "source": [
    "## Step 1: Connecting to the data"
   ]
  },
  {
   "cell_type": "code",
   "execution_count": 2,
   "metadata": {
    "collapsed": false
   },
   "outputs": [],
   "source": [
    "from csv import reader\n",
    "hn=list(reader(open(\"hacker_news.csv\")))"
   ]
  },
  {
   "cell_type": "code",
   "execution_count": 3,
   "metadata": {
    "collapsed": false
   },
   "outputs": [
    {
     "data": {
      "text/plain": [
       "[['id', 'title', 'url', 'num_points', 'num_comments', 'author', 'created_at'],\n",
       " ['12224879',\n",
       "  'Interactive Dynamic Video',\n",
       "  'http://www.interactivedynamicvideo.com/',\n",
       "  '386',\n",
       "  '52',\n",
       "  'ne0phyte',\n",
       "  '8/4/2016 11:52'],\n",
       " ['10975351',\n",
       "  'How to Use Open Source and Shut the Fuck Up at the Same Time',\n",
       "  'http://hueniverse.com/2016/01/26/how-to-use-open-source-and-shut-the-fuck-up-at-the-same-time/',\n",
       "  '39',\n",
       "  '10',\n",
       "  'josep2',\n",
       "  '1/26/2016 19:30'],\n",
       " ['11964716',\n",
       "  \"Florida DJs May Face Felony for April Fools' Water Joke\",\n",
       "  'http://www.thewire.com/entertainment/2013/04/florida-djs-april-fools-water-joke/63798/',\n",
       "  '2',\n",
       "  '1',\n",
       "  'vezycash',\n",
       "  '6/23/2016 22:20'],\n",
       " ['11919867',\n",
       "  'Technology ventures: From Idea to Enterprise',\n",
       "  'https://www.amazon.com/Technology-Ventures-Enterprise-Thomas-Byers/dp/0073523429',\n",
       "  '3',\n",
       "  '1',\n",
       "  'hswarna',\n",
       "  '6/17/2016 0:01']]"
      ]
     },
     "execution_count": 3,
     "metadata": {},
     "output_type": "execute_result"
    }
   ],
   "source": [
    "hn[:5]"
   ]
  },
  {
   "cell_type": "code",
   "execution_count": 4,
   "metadata": {
    "collapsed": false
   },
   "outputs": [
    {
     "data": {
      "text/plain": [
       "[['id', 'title', 'url', 'num_points', 'num_comments', 'author', 'created_at']]"
      ]
     },
     "execution_count": 4,
     "metadata": {},
     "output_type": "execute_result"
    }
   ],
   "source": [
    "#Extract the first row of data, and assign it to the variable headers\n",
    "headers = hn[:1]\n",
    "\n",
    "#Display headers.\n",
    "headers"
   ]
  },
  {
   "cell_type": "code",
   "execution_count": 5,
   "metadata": {
    "collapsed": false
   },
   "outputs": [],
   "source": [
    "#Remove the first row from hn.\n",
    "hn= hn[1:]"
   ]
  },
  {
   "cell_type": "code",
   "execution_count": 6,
   "metadata": {
    "collapsed": false
   },
   "outputs": [
    {
     "name": "stdout",
     "output_type": "stream",
     "text": [
      "1744\n",
      "1162\n",
      "17194\n"
     ]
    }
   ],
   "source": [
    "#I want to separate ASK HN and SHOW HN posts. \n",
    "#Separated \"ask posts\" and the \"show posts\" into two list of lists named ask_posts and show_posts\n",
    "ask_posts = []\n",
    "show_posts = []\n",
    "other_posts = []\n",
    "\n",
    "for row in hn: \n",
    "    #Because the title column is the second column, you'll need to get the element at index 1 in each row.\n",
    "    title=row[1]\n",
    "    #If the lowercase version of title starts with ask hn, append the row to ask_posts.\n",
    "    if title.lower().startswith('ask hn'):\n",
    "        ask_posts.append(row)\n",
    "    #Else if the lowercase version of title starts with show hn, append the row to show_posts.    \n",
    "    elif title.lower().startswith('show hn'):\n",
    "        show_posts.append(row)\n",
    "    else:\n",
    "        other_posts.append(row)\n",
    "\n",
    "#Check the number of posts in ask_posts, show_posts, and other_posts.\n",
    "print(len(ask_posts))\n",
    "print(len(show_posts))\n",
    "print(len(other_posts))\n"
   ]
  },
  {
   "cell_type": "code",
   "execution_count": 7,
   "metadata": {
    "collapsed": false
   },
   "outputs": [
    {
     "data": {
      "text/plain": [
       "['10610020',\n",
       " 'Ask HN: Am I the only one outraged by Twitter shutting down share counts?',\n",
       " '',\n",
       " '28',\n",
       " '29',\n",
       " 'tkfx',\n",
       " '11/22/2015 13:43']"
      ]
     },
     "execution_count": 7,
     "metadata": {},
     "output_type": "execute_result"
    }
   ],
   "source": [
    "ask_posts[1]"
   ]
  },
  {
   "cell_type": "markdown",
   "metadata": {},
   "source": [
    "### Question 1: Which posts receive most comments on average? "
   ]
  },
  {
   "cell_type": "code",
   "execution_count": 8,
   "metadata": {
    "collapsed": false
   },
   "outputs": [
    {
     "name": "stdout",
     "output_type": "stream",
     "text": [
      "Average comments on posts inquiry posts:  14.038417431192661\n",
      "Average comments on showcasing products/projects: 10.31669535283993\n"
     ]
    }
   ],
   "source": [
    "#Total number of comments in ASK posts. \n",
    "\n",
    "total_ask_comments = 0\n",
    "\n",
    "for post in ask_posts:\n",
    "    total_ask_comments += int(post[4])\n",
    "\n",
    "avg_ask_comments=total_ask_comments/len(ask_posts)\n",
    "print(\"Average comments on posts inquiry posts: \",avg_ask_comments)\n",
    "\n",
    "total_show_comments = 0\n",
    "\n",
    "for post in show_posts:\n",
    "    total_show_comments += int(post[4])\n",
    "    \n",
    "avg_show_comments=total_show_comments/len(show_posts)\n",
    "print(\"Average comments on showcasing products/projects:\",avg_show_comments)"
   ]
  },
  {
   "cell_type": "markdown",
   "metadata": {
    "collapsed": true
   },
   "source": [
    "#### : Verdict : More engagement (via comments) on posts where people ask questions than posts where people showcase products"
   ]
  },
  {
   "cell_type": "markdown",
   "metadata": {
    "collapsed": true
   },
   "source": [
    "### Follow up question: What time of the day do we get most comments on these posts? "
   ]
  },
  {
   "cell_type": "code",
   "execution_count": 26,
   "metadata": {
    "collapsed": false
   },
   "outputs": [],
   "source": [
    "#Import the datetime module as dt.\n",
    "import datetime as dt\n",
    "\n",
    "#Create an empty list\n",
    "result_list = []\n",
    "\n",
    "#Iterate over ask_posts\n",
    "for post in ask_posts:\n",
    "    created_at=post[6]\n",
    "    num_comments=int(post[4])\n",
    "    \n",
    "    #As we are asked to create list of lists,t\n",
    "    #he columns which we want to append to results_list should be appended in the following format:\n",
    "    #example: results_list.append([column1, column2])\n",
    "    \n",
    "    result_list.append([created_at, num_comments])\n",
    "    \n",
    "#Create two empty dictionaries\n",
    "counts_by_hour = {}\n",
    "comments_by_hour = {}\n",
    "date_format=(\"%m/%d/%Y %H:%M\")\n",
    "\n",
    "#Loop through each row\n",
    "for item in result_list:\n",
    "    date_hour=item[0]\n",
    "    comments=item[1]\n",
    "    t1 = dt.datetime.strptime(date_hour, date_format).strftime(\"%H\")\n",
    "    #created_dt=dt.datetime.strftime(\"%H\")\n",
    "    \n",
    "    if t1 in counts_by_hour:\n",
    "        counts_by_hour[t1]+= 1\n",
    "        comments_by_hour[t1]+= comments\n",
    "    else:\n",
    "        counts_by_hour[t1]=1\n",
    "        comments_by_hour[t1]=comments\n"
   ]
  },
  {
   "cell_type": "code",
   "execution_count": 24,
   "metadata": {
    "collapsed": false
   },
   "outputs": [
    {
     "data": {
      "text/plain": [
       "{'00': 55,\n",
       " '01': 60,\n",
       " '02': 58,\n",
       " '03': 54,\n",
       " '04': 47,\n",
       " '05': 46,\n",
       " '06': 44,\n",
       " '07': 34,\n",
       " '08': 48,\n",
       " '09': 45,\n",
       " '10': 59,\n",
       " '11': 58,\n",
       " '12': 73,\n",
       " '13': 85,\n",
       " '14': 107,\n",
       " '15': 116,\n",
       " '16': 108,\n",
       " '17': 100,\n",
       " '18': 109,\n",
       " '19': 110,\n",
       " '20': 80,\n",
       " '21': 109,\n",
       " '22': 71,\n",
       " '23': 68}"
      ]
     },
     "execution_count": 24,
     "metadata": {},
     "output_type": "execute_result"
    }
   ],
   "source": [
    "#contains the number of ask posts created during each hour of the day.\n",
    "counts_by_hour"
   ]
  },
  {
   "cell_type": "code",
   "execution_count": 25,
   "metadata": {
    "collapsed": false
   },
   "outputs": [
    {
     "data": {
      "text/plain": [
       "{'00': 447,\n",
       " '01': 683,\n",
       " '02': 1381,\n",
       " '03': 421,\n",
       " '04': 337,\n",
       " '05': 464,\n",
       " '06': 397,\n",
       " '07': 267,\n",
       " '08': 492,\n",
       " '09': 251,\n",
       " '10': 793,\n",
       " '11': 641,\n",
       " '12': 687,\n",
       " '13': 1253,\n",
       " '14': 1416,\n",
       " '15': 4477,\n",
       " '16': 1814,\n",
       " '17': 1146,\n",
       " '18': 1439,\n",
       " '19': 1188,\n",
       " '20': 1722,\n",
       " '21': 1745,\n",
       " '22': 479,\n",
       " '23': 543}"
      ]
     },
     "execution_count": 25,
     "metadata": {},
     "output_type": "execute_result"
    }
   ],
   "source": [
    "#contains the corresponding number of comments ask posts created at each hour received.\n",
    "comments_by_hour"
   ]
  },
  {
   "cell_type": "markdown",
   "metadata": {},
   "source": [
    "### The average number of comments per post for posts created during each hour of the day."
   ]
  },
  {
   "cell_type": "code",
   "execution_count": 29,
   "metadata": {
    "collapsed": false
   },
   "outputs": [
    {
     "data": {
      "text/plain": [
       "[['18', 13.20183486238532],\n",
       " ['13', 14.741176470588234],\n",
       " ['11', 11.051724137931034],\n",
       " ['06', 9.022727272727273],\n",
       " ['16', 16.796296296296298],\n",
       " ['21', 16.009174311926607],\n",
       " ['00', 8.127272727272727],\n",
       " ['01', 11.383333333333333],\n",
       " ['02', 23.810344827586206],\n",
       " ['07', 7.852941176470588],\n",
       " ['15', 38.5948275862069],\n",
       " ['19', 10.8],\n",
       " ['20', 21.525],\n",
       " ['17', 11.46],\n",
       " ['10', 13.440677966101696],\n",
       " ['03', 7.796296296296297],\n",
       " ['08', 10.25],\n",
       " ['22', 6.746478873239437],\n",
       " ['05', 10.08695652173913],\n",
       " ['23', 7.985294117647059],\n",
       " ['09', 5.5777777777777775],\n",
       " ['14', 13.233644859813085],\n",
       " ['04', 7.170212765957447],\n",
       " ['12', 9.41095890410959]]"
      ]
     },
     "execution_count": 29,
     "metadata": {},
     "output_type": "execute_result"
    }
   ],
   "source": [
    "avg_by_hour = []\n",
    "\n",
    "for counts in counts_by_hour: \n",
    "    avg_by_hour.append([counts,comments_by_hour[counts]/counts_by_hour[counts]])\n",
    "    \n",
    "avg_by_hour"
   ]
  },
  {
   "cell_type": "code",
   "execution_count": 34,
   "metadata": {
    "collapsed": false
   },
   "outputs": [
    {
     "data": {
      "text/plain": [
       "[[13.20183486238532, '18'],\n",
       " [14.741176470588234, '13'],\n",
       " [11.051724137931034, '11'],\n",
       " [9.022727272727273, '06'],\n",
       " [16.796296296296298, '16'],\n",
       " [16.009174311926607, '21'],\n",
       " [8.127272727272727, '00'],\n",
       " [11.383333333333333, '01'],\n",
       " [23.810344827586206, '02'],\n",
       " [7.852941176470588, '07'],\n",
       " [38.5948275862069, '15'],\n",
       " [10.8, '19'],\n",
       " [21.525, '20'],\n",
       " [11.46, '17'],\n",
       " [13.440677966101696, '10'],\n",
       " [7.796296296296297, '03'],\n",
       " [10.25, '08'],\n",
       " [6.746478873239437, '22'],\n",
       " [10.08695652173913, '05'],\n",
       " [7.985294117647059, '23'],\n",
       " [5.5777777777777775, '09'],\n",
       " [13.233644859813085, '14'],\n",
       " [7.170212765957447, '04'],\n",
       " [9.41095890410959, '12']]"
      ]
     },
     "execution_count": 34,
     "metadata": {},
     "output_type": "execute_result"
    }
   ],
   "source": [
    "swap_avg_by_hour = []\n",
    "\n",
    "for swap in avg_by_hour:\n",
    "    swap_avg_by_hour.append([swap[1], swap[0]])\n",
    "    \n",
    "swap_avg_by_hour"
   ]
  },
  {
   "cell_type": "code",
   "execution_count": 35,
   "metadata": {
    "collapsed": true
   },
   "outputs": [],
   "source": [
    "sorted_swap=sorted(swap_avg_by_hour, reverse=True)"
   ]
  },
  {
   "cell_type": "code",
   "execution_count": 36,
   "metadata": {
    "collapsed": false
   },
   "outputs": [
    {
     "data": {
      "text/plain": [
       "[[38.5948275862069, '15'],\n",
       " [23.810344827586206, '02'],\n",
       " [21.525, '20'],\n",
       " [16.796296296296298, '16'],\n",
       " [16.009174311926607, '21'],\n",
       " [14.741176470588234, '13'],\n",
       " [13.440677966101696, '10'],\n",
       " [13.233644859813085, '14'],\n",
       " [13.20183486238532, '18'],\n",
       " [11.46, '17'],\n",
       " [11.383333333333333, '01'],\n",
       " [11.051724137931034, '11'],\n",
       " [10.8, '19'],\n",
       " [10.25, '08'],\n",
       " [10.08695652173913, '05'],\n",
       " [9.41095890410959, '12'],\n",
       " [9.022727272727273, '06'],\n",
       " [8.127272727272727, '00'],\n",
       " [7.985294117647059, '23'],\n",
       " [7.852941176470588, '07'],\n",
       " [7.796296296296297, '03'],\n",
       " [7.170212765957447, '04'],\n",
       " [6.746478873239437, '22'],\n",
       " [5.5777777777777775, '09']]"
      ]
     },
     "execution_count": 36,
     "metadata": {},
     "output_type": "execute_result"
    }
   ],
   "source": [
    "sorted_swap"
   ]
  },
  {
   "cell_type": "markdown",
   "metadata": {},
   "source": [
    "### The Top 5 Hours for Ask Posts Comments"
   ]
  },
  {
   "cell_type": "code",
   "execution_count": 41,
   "metadata": {
    "collapsed": false
   },
   "outputs": [
    {
     "name": "stdout",
     "output_type": "stream",
     "text": [
      "15:00 : 38.59 average comments per day\n",
      "02:00 : 23.81 average comments per day\n",
      "20:00 : 21.52 average comments per day\n",
      "16:00 : 16.80 average comments per day\n",
      "21:00 : 16.01 average comments per day\n"
     ]
    }
   ],
   "source": [
    "for avg,hr in sorted_swap[:5]:\n",
    "    print(\"{}:00 : {:.2f} average comments per day\".format(hr, avg))"
   ]
  },
  {
   "cell_type": "markdown",
   "metadata": {},
   "source": [
    "### Verdict\n",
    "\n",
    "Creating a post within these hours will have a higher chance of receiving comments.As the time zone is Eastern Time in the US, this translates to: \n",
    "\n",
    "- 15 is 9 pm CPH time\n",
    "- 2 is 8 am CPH time\n",
    "- 20 is 4 am CPH time\n",
    "- 16 is 10 pm CPH time\n",
    "- 21 is 3 pm CPH time"
   ]
  },
  {
   "cell_type": "code",
   "execution_count": null,
   "metadata": {
    "collapsed": true
   },
   "outputs": [],
   "source": []
  }
 ],
 "metadata": {
  "kernelspec": {
   "display_name": "Python 3",
   "language": "python",
   "name": "python3"
  },
  "language_info": {
   "codemirror_mode": {
    "name": "ipython",
    "version": 3
   },
   "file_extension": ".py",
   "mimetype": "text/x-python",
   "name": "python",
   "nbconvert_exporter": "python",
   "pygments_lexer": "ipython3",
   "version": "3.4.3"
  }
 },
 "nbformat": 4,
 "nbformat_minor": 2
}
